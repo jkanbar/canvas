{
 "cells": [
  {
   "cell_type": "code",
   "execution_count": 1,
   "metadata": {
    "collapsed": false
   },
   "outputs": [],
   "source": [
    "from __future__ import division\n",
    "import numpy as np\n",
    "import pandas as pd\n",
    "from skbio.stats.composition import ilr\n",
    "from skbio import TreeNode\n",
    "from canvas.phylogeny import phylogenetic_basis\n",
    "from canvas.viz.ilrtree import balanceplot, balance_test, barchart_layout\n",
    "from biom import load_table\n",
    "\n",
    "import random\n",
    "from ete3 import Tree, TreeStyle, faces, AttrFace, BarChartFace, CircleFace\n",
    "%matplotlib inline"
   ]
  },
  {
   "cell_type": "markdown",
   "metadata": {},
   "source": [
    "One way to visualize proportions or counts, is to visualize them as logratios of subtrees in a binary tree.\n",
    "\n",
    "For an example, we suppose that we have the following tree."
   ]
  },
  {
   "cell_type": "code",
   "execution_count": 2,
   "metadata": {
    "collapsed": false
   },
   "outputs": [
    {
     "name": "stdout",
     "output_type": "stream",
     "text": [
      "                    /-a\n",
      "          /--------|\n",
      "         |          \\-b\n",
      "---------|\n",
      "         |          /-c\n",
      "          \\--------|\n",
      "                    \\-d\n"
     ]
    }
   ],
   "source": [
    "tree = TreeNode.read([u\"((a,b), (c,d));\"])\n",
    "print(tree.ascii_art())"
   ]
  },
  {
   "cell_type": "code",
   "execution_count": 3,
   "metadata": {
    "collapsed": false
   },
   "outputs": [
    {
     "data": {
      "text/plain": [
       "a    10\n",
       "b    20\n",
       "c    10\n",
       "d    10\n",
       "dtype: int64"
      ]
     },
     "execution_count": 3,
     "metadata": {},
     "output_type": "execute_result"
    }
   ],
   "source": [
    "table = pd.Series([10, 20, 10, 10],\n",
    "                  index=['a','b','c','d'])\n",
    "table"
   ]
  },
  {
   "cell_type": "markdown",
   "metadata": {},
   "source": [
    "Given this data, we can visualize the ratios between the abundances according to this tree.\n",
    "Here, we will be visualizing the log ratios between a/b, c/d and f/g\n"
   ]
  },
  {
   "cell_type": "code",
   "execution_count": 4,
   "metadata": {
    "collapsed": true
   },
   "outputs": [],
   "source": [
    "basis, nodes = phylogenetic_basis(tree)\n",
    "ilr_coords = ilr(table, basis=basis)"
   ]
  },
  {
   "cell_type": "markdown",
   "metadata": {},
   "source": [
    "Now, we can visualize these log-ratios as balances on the tree.  Since the c, d have the same abundances, their ratio is 1, and their log-ratio is zero. So that balance on the c,d subtree is zero.\n",
    "\n",
    "On the other hand, the abundance of b is double the abundance of a.  So the ratio of a/b is 1/2, making the log ratio -log(2).  So the balance on the a,b subtree is zero. \n",
    "\n",
    "The logratios of subtrees can be visualized as balances on the tree as shown below."
   ]
  },
  {
   "cell_type": "code",
   "execution_count": 5,
   "metadata": {
    "collapsed": false
   },
   "outputs": [
    {
     "data": {
      "image/png": "[encoded data removed]",
      "text/plain": [
       "<IPython.core.display.Image object>"
      ]
     },
     "execution_count": 5,
     "metadata": {},
     "output_type": "execute_result"
    }
   ],
   "source": [
    "tr, ts = balanceplot(ilr_coords, tree, mode='r', layout=barchart_layout) \n",
    "tr.render(file_name='%%inline', tree_style=ts)"
   ]
  },
  {
   "cell_type": "code",
   "execution_count": 6,
   "metadata": {
    "collapsed": true
   },
   "outputs": [],
   "source": [
    "table = pd.DataFrame([\n",
    "            [10, 10, 10, 20, 20, 20],\n",
    "            [11, 12, 11, 21, 21, 21],\n",
    "            [10, 11, 10, 10, 11, 10],\n",
    "            [10, 11, 10, 10, 10, 9],\n",
    "            [10, 11, 10, 10, 10, 10],\n",
    "            [10, 11, 10, 10, 10, 11],\n",
    "            [10, 13, 10, 10, 10, 12]]).T\n",
    "cats = pd.Series(['Control', 'Control', 'Control', \n",
    "                  'Treatment', 'Treatment', 'Treatment'])\n",
    "tree = TreeNode.read([u\"((((((a,b)c, d)e, f)g, h)i, j)k, l);\"])\n"
   ]
  }
 ],
 "metadata": {
  "kernelspec": {
   "display_name": "Python 2",
   "language": "python",
   "name": "python2"
  },
  "language_info": {
   "codemirror_mode": {
    "name": "ipython",
    "version": 2
   },
   "file_extension": ".py",
   "mimetype": "text/x-python",
   "name": "python",
   "nbconvert_exporter": "python",
   "pygments_lexer": "ipython2",
   "version": "2.7.11"
  }
 },
 "nbformat": 4,
 "nbformat_minor": 0
}
