{
 "cells": [
  {
   "cell_type": "code",
   "execution_count": 43,
   "metadata": {
    "collapsed": false
   },
   "outputs": [],
   "source": [
    "from __future__ import division\n",
    "import numpy as np\n",
    "import pandas as pd\n",
    "from skbio.stats.composition import ilr, ilr_inv, perturb, perturb_inv\n",
    "\n",
    "from skbio import TreeNode\n",
    "from canvas.phylogeny import phylogenetic_basis\n",
    "from biom import load_table\n",
    "\n",
    "import random\n",
    "from ete3 import Tree, TreeStyle, NodeStyle, faces, AttrFace, CircleFace, BarChartFace\n",
    "%matplotlib inline"
   ]
  },
  {
   "cell_type": "code",
   "execution_count": 44,
   "metadata": {
    "collapsed": true
   },
   "outputs": [],
   "source": [
    "table = pd.DataFrame({'a':[10, 10], 'b':[10, 10], \n",
    "                      'c':[10, 10], 'd':[20, 40]})\n",
    "mapping = pd.Series(['Control', 'Treatment'])\n",
    "tree = TreeNode.read([u\"((a,b)f, (c,d)g)r;\"])"
   ]
  },
  {
   "cell_type": "code",
   "execution_count": 45,
   "metadata": {
    "collapsed": true
   },
   "outputs": [],
   "source": [
    "def layout(node):\n",
    "    if node.is_leaf():\n",
    "        # Add node name to leaf nodes\n",
    "        N = AttrFace(\"name\", fsize=18, fgcolor='black')\n",
    "        \n",
    "        faces.add_face_to_node(N, node, 0)\n",
    "    if \"weight\" in node.features:\n",
    "        # Creates a sphere face whose size is proportional to node's\n",
    "        # feature \"weight\"\n",
    "        C = BarChartFace(values=node.weight, width=20, height=40, \n",
    "                         colors=['#FF0000','#0000FF'], min_value=0, max_value=1)\n",
    "        # Let's make the sphere transparent\n",
    "        C.opacity = 0.3\n",
    "        \n",
    "        # And rotate the face by 90 degrees\n",
    "        C.rotation = 90\n",
    "        # And place as a float face over the tree\n",
    "        faces.add_face_to_node(C, node, 0, position=\"float\")\n",
    "        \n",
    "def build_ete_diff_abundance(sk_tree, ilr_df, mapping):\n",
    "    \"\"\"\n",
    "    Parameters\n",
    "    ----------\n",
    "    sk_tree : skbio.TreeNode\n",
    "        Scikit bio tree node data structure\n",
    "    ilr_df : pd.DataFrame\n",
    "        DataFrame of ilr coordinates.\n",
    "    category : pd.Series\n",
    "        DataFrame of mapping file\n",
    "    \"\"\"\n",
    "    # The names aren't preserved - let's pray that the topology is consistent.\n",
    "    ete_tree = Tree(str(sk_tree), format=1)    \n",
    "    cats = set(mapping)\n",
    "    # Some random features in all nodes\n",
    "    i = 0\n",
    "    for n in ete_tree.traverse():\n",
    "        if not n.is_leaf():\n",
    "            x = [np.mean(ilr_coords[(mapping==cat).values, i]) for cat in cats] \n",
    "            n.add_features(weight=x)\n",
    "            i += 1\n",
    "    # Create an empty TreeStyle\n",
    "    ts = TreeStyle()\n",
    "\n",
    "    # Set our custom layout function\n",
    "    ts.layout_fn = layout\n",
    "\n",
    "    # Draw a tree\n",
    "    #ts.mode = \"c\"\n",
    "\n",
    "    # We will add node names manually\n",
    "    ts.show_leaf_name = False\n",
    "    # Show branch data\n",
    "    ts.show_branch_length = True\n",
    "    ts.show_branch_support = True\n",
    "\n",
    "    return ete_tree, ts"
   ]
  },
  {
   "cell_type": "code",
   "execution_count": 46,
   "metadata": {
    "collapsed": false
   },
   "outputs": [],
   "source": [
    "sorted_otus = [n.name for n in tree.levelorder() if n.is_tip()]\n",
    "table = table.reindex_axis(sorted_otus, axis=1)"
   ]
  },
  {
   "cell_type": "code",
   "execution_count": 47,
   "metadata": {
    "collapsed": true
   },
   "outputs": [],
   "source": [
    "basis, nodes = phylogenetic_basis(tree)\n",
    "ilr_coords = ilr(table, basis=basis) "
   ]
  },
  {
   "cell_type": "code",
   "execution_count": 48,
   "metadata": {
    "collapsed": false
   },
   "outputs": [],
   "source": [
    "tr, ts = build_ete_diff_abundance(tree, ilr_coords, mapping) "
   ]
  },
  {
   "cell_type": "code",
   "execution_count": 49,
   "metadata": {
    "collapsed": false
   },
   "outputs": [
    {
     "data": {
      "image/png": "[encoded data removed]",
      "text/plain": [
       "<IPython.core.display.Image object>"
      ]
     },
     "execution_count": 49,
     "metadata": {},
     "output_type": "execute_result"
    }
   ],
   "source": [
    "tr.render(file_name='%%inline', tree_style=ts)"
   ]
  }
 ],
 "metadata": {
  "kernelspec": {
   "display_name": "Python 2",
   "language": "python",
   "name": "python2"
  },
  "language_info": {
   "codemirror_mode": {
    "name": "ipython",
    "version": 2
   },
   "file_extension": ".py",
   "mimetype": "text/x-python",
   "name": "python",
   "nbconvert_exporter": "python",
   "pygments_lexer": "ipython2",
   "version": "2.7.11"
  }
 },
 "nbformat": 4,
 "nbformat_minor": 0
}
